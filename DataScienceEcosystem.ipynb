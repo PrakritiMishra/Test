{
 "cells": [
  {
   "cell_type": "markdown",
   "id": "ce856486-70f0-4999-bbf7-aa328bab9b88",
   "metadata": {},
   "source": [
    "# Data Science Tools and Ecosystem"
   ]
  },
  {
   "cell_type": "markdown",
   "id": "31e46212-5514-48b2-a55e-5d3bd5d9b7ab",
   "metadata": {},
   "source": [
    "This is a notebook about data science tools and ecosystem."
   ]
  },
  {
   "cell_type": "markdown",
   "id": "1e2dd19f-ed78-4683-bb78-d399d26ed4a1",
   "metadata": {},
   "source": [
    "The most common languages used in data science are:\n",
    "1. Python\n",
    "2. R/RStudio\n",
    "3. SQL\n",
    "4. Java\n",
    "5. Scala\n",
    "6. C++\n",
    "7. Java Script\n",
    "8. Julia"
   ]
  },
  {
   "cell_type": "markdown",
   "id": "63004da3-ee12-4c96-b073-5c2ddd54b769",
   "metadata": {},
   "source": [
    "The most commonly used libraries in data science are:\n",
    "- Pandas\n",
    "- NumPy\n",
    "- Matplotlib\n",
    "- Seaborn\n",
    "- Scikit\n",
    "- Keras\n",
    "- TensorFlow\n",
    "- Pytorch\n",
    "- Apache Spark"
   ]
  },
  {
   "cell_type": "markdown",
   "id": "bea06c6c-730a-46d9-910c-f8d156e300d8",
   "metadata": {},
   "source": [
    "| Data Science Tools |\n",
    "|--------------------|\n",
    "| Jupyter Notebook   |\n",
    "| RStudio            |\n",
    "| Python             |"
   ]
  },
  {
   "cell_type": "markdown",
   "id": "e3ef642b-a361-4675-8364-76d080d57a7b",
   "metadata": {},
   "source": [
    "#### Arithmetic Expression Examples\n",
    "Here are some examples of Arithmetic Expressions:\n",
    "- 2+3\n",
    "\n",
    "Solution: 5\n",
    "- 5\\*7\n",
    "\n",
    "Solution: 7\n",
    "- 7-6\n",
    "\n",
    "Solution: 1\n",
    "- 10/5\n",
    "\n",
    "Solution: 2"
   ]
  },
  {
   "cell_type": "code",
   "execution_count": 2,
   "id": "1091d1e2-c629-42d2-9a81-1ebbe263a546",
   "metadata": {
    "tags": []
   },
   "outputs": [
    {
     "name": "stdout",
     "output_type": "stream",
     "text": [
      "20 \n",
      " 9\n"
     ]
    }
   ],
   "source": [
    "#Multiplication of numbers\n",
    "a=5*4\n",
    "\n",
    "#Addition of numbers\n",
    "b=5+4\n",
    "\n",
    "print(a,\"\\n\", b)"
   ]
  },
  {
   "cell_type": "code",
   "execution_count": 16,
   "id": "a8d79f82-62a3-47e0-bf51-e700690012eb",
   "metadata": {
    "tags": []
   },
   "outputs": [
    {
     "name": "stdin",
     "output_type": "stream",
     "text": [
      "Enter the number of minutes 190\n"
     ]
    },
    {
     "name": "stdout",
     "output_type": "stream",
     "text": [
      "It is  3.0  hours and  10.0  minutes\n"
     ]
    }
   ],
   "source": [
    "d = float(input(\"Enter the number of minutes\"))\n",
    "e = d % 60 \n",
    "#finds the remaining number of minutes\n",
    "f = (d-e) / 60 \n",
    "#finds the total number of hours\n",
    "print(\"It is \", f, \" hours and \", e, \" minutes\")"
   ]
  },
  {
   "cell_type": "markdown",
   "id": "9185aec4-fa11-40c1-afdd-b00cb4ac7e25",
   "metadata": {},
   "source": [
    "#### Objective\n",
    "\n",
    "In this final assignment, you will:\n",
    "\n",
    "- Create a Jupyter Notebook\n",
    "- Insert code and markdown cells\n",
    "- Share your notebook through GitHub"
   ]
  },
  {
   "cell_type": "markdown",
   "id": "679d70b7-32cc-4e79-ac66-21bbf8945d7e",
   "metadata": {},
   "source": [
    "### Author\n",
    "Lakshmi Holla\n",
    "\n",
    "Niveditha Pandith"
   ]
  },
  {
   "cell_type": "code",
   "execution_count": null,
   "id": "af0496d5-abbf-44a3-b58d-3a67e8972e8f",
   "metadata": {},
   "outputs": [],
   "source": []
  }
 ],
 "metadata": {
  "kernelspec": {
   "display_name": "Python",
   "language": "python",
   "name": "conda-env-python-py"
  },
  "language_info": {
   "codemirror_mode": {
    "name": "ipython",
    "version": 3
   },
   "file_extension": ".py",
   "mimetype": "text/x-python",
   "name": "python",
   "nbconvert_exporter": "python",
   "pygments_lexer": "ipython3",
   "version": "3.7.12"
  }
 },
 "nbformat": 4,
 "nbformat_minor": 5
}
